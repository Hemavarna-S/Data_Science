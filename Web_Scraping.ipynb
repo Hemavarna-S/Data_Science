{
  "nbformat": 4,
  "nbformat_minor": 0,
  "metadata": {
    "colab": {
      "provenance": [],
      "authorship_tag": "ABX9TyPPT6AUuIRCWc5u5/bvKjXS",
      "include_colab_link": true
    },
    "kernelspec": {
      "name": "python3",
      "display_name": "Python 3"
    },
    "language_info": {
      "name": "python"
    }
  },
  "cells": [
    {
      "cell_type": "markdown",
      "metadata": {
        "id": "view-in-github",
        "colab_type": "text"
      },
      "source": [
        "<a href=\"https://colab.research.google.com/github/Hemavarna-S/Data_Science/blob/main/Web_Scraping.ipynb\" target=\"_parent\"><img src=\"https://colab.research.google.com/assets/colab-badge.svg\" alt=\"Open In Colab\"/></a>"
      ]
    },
    {
      "cell_type": "code",
      "execution_count": 25,
      "metadata": {
        "colab": {
          "base_uri": "https://localhost:8080/"
        },
        "id": "SqSYUPjaAfiD",
        "outputId": "697f2f58-410b-4471-a941-f730c7b7afce"
      },
      "outputs": [
        {
          "output_type": "stream",
          "name": "stdout",
          "text": [
            "Requirement already satisfied: beautifulsoup4 in /usr/local/lib/python3.11/dist-packages (4.13.4)\n",
            "Requirement already satisfied: soupsieve>1.2 in /usr/local/lib/python3.11/dist-packages (from beautifulsoup4) (2.7)\n",
            "Requirement already satisfied: typing-extensions>=4.0.0 in /usr/local/lib/python3.11/dist-packages (from beautifulsoup4) (4.14.1)\n"
          ]
        }
      ],
      "source": [
        "pip install beautifulsoup4"
      ]
    },
    {
      "cell_type": "code",
      "source": [
        "from bs4 import BeautifulSoup as bs"
      ],
      "metadata": {
        "id": "EHlMbQftAlqh"
      },
      "execution_count": 26,
      "outputs": []
    },
    {
      "cell_type": "code",
      "source": [
        "import requests\n",
        "import pandas as pd\n",
        "import time\n",
        "import random"
      ],
      "metadata": {
        "id": "YdrNAip1A2oD"
      },
      "execution_count": 27,
      "outputs": []
    },
    {
      "cell_type": "code",
      "source": [
        "BASE_URL = \"http://books.toscrape.com/catalogue/page-{}.html\"\n",
        "HEADERS = {\n",
        "    \"User-Agent\": \"Mozilla/5.0 (Window NT 10.0; Win64; x64)\"\n",
        "                  \"AppleWebkit/537.36 (KHTML, like Gecko)\"\n",
        "                  \"Chrome/114.0.0.0 Safari/537.36\"\n",
        "}"
      ],
      "metadata": {
        "id": "qW1O8nqPBIXT"
      },
      "execution_count": 28,
      "outputs": []
    },
    {
      "cell_type": "code",
      "source": [
        "def convert_rating(rating_text):\n",
        "  ratings = {\n",
        "      \"One\" : 1,\n",
        "      \"Two\" : 2,\n",
        "      \"Three\" : 3,\n",
        "      \"Four\" : 4,\n",
        "      \"Five\" : 5\n",
        "  }\n",
        "  return ratings.get(rating_text, None)"
      ],
      "metadata": {
        "id": "qQWnsQ3_B0Kv"
      },
      "execution_count": 29,
      "outputs": []
    },
    {
      "cell_type": "code",
      "source": [
        "def fetch_page(page_num):\n",
        "  url = BASE_URL.format(page_num)\n",
        "  print(f\"Fetching:{url}\")\n",
        "  try:\n",
        "    res = requests.get(url, headers=HEADERS)\n",
        "    res.raise_for_status()\n",
        "    soup = bs(res.text,'html.parser')\n",
        "    return soup\n",
        "  except requests.exceptions.RequestException as e:\n",
        "    print(f\"Failed to fetch {url} : {e}\")\n",
        "    return None"
      ],
      "metadata": {
        "id": "boZwdFXqDKXk"
      },
      "execution_count": 30,
      "outputs": []
    },
    {
      "cell_type": "code",
      "source": [
        "def extract_books(soup):\n",
        "  books = []\n",
        "  articles = soup.find_all('article',class_='product_pod')\n",
        "  for article in articles:\n",
        "    try:\n",
        "      title = article.h3.a['title']\n",
        "      price = article.find('p',class_='price_color').text[1:]\n",
        "      availability = article.find(\"p\",class_='instock availability').text[1:]\n",
        "      rating = article.find(\"p\",class_='star-rating')['class'][1]\n",
        "      books.append({\n",
        "          'Title':title,\n",
        "          'Price($)':price,\n",
        "          'Availability':availability,\n",
        "          'Rating':convert_rating(rating)\n",
        "      })\n",
        "    except Exception as e:\n",
        "      print(f\"Failed to extract book details: {e}\")\n",
        "\n",
        "  return books"
      ],
      "metadata": {
        "id": "BIBGPTJMEdFk"
      },
      "execution_count": 31,
      "outputs": []
    },
    {
      "cell_type": "code",
      "source": [
        "def scrape_books(max_pages=5):\n",
        "  all_books=[]\n",
        "  for i in range(1,max_pages+1):\n",
        "    soup = fetch_page(i)\n",
        "    if soup:\n",
        "      books = extract_books(soup)\n",
        "      all_books.extend(books)\n",
        "      time.sleep(random.uniform(1.5,3))\n",
        "    else:\n",
        "      print(f\"Failed to extract book data:{e}\")\n",
        "      break\n",
        "  return books"
      ],
      "metadata": {
        "id": "Z1QV7-iVHtcu"
      },
      "execution_count": 32,
      "outputs": []
    },
    {
      "cell_type": "code",
      "source": [
        "if __name__ == \"__main__\":\n",
        "  max_pages = 5\n",
        "  books_data = scrape_books(max_pages)\n",
        "  df = pd.DataFrame(books_data)\n",
        "  print(df.head)\n",
        "  df.to_csv('books.csv',index=False)"
      ],
      "metadata": {
        "colab": {
          "base_uri": "https://localhost:8080/"
        },
        "id": "G0TkZGvbIdrC",
        "outputId": "bb95341f-a3cf-4915-f002-8d1aa5d73773"
      },
      "execution_count": 36,
      "outputs": [
        {
          "output_type": "stream",
          "name": "stdout",
          "text": [
            "Fetching:http://books.toscrape.com/catalogue/page-1.html\n",
            "Fetching:http://books.toscrape.com/catalogue/page-2.html\n",
            "Fetching:http://books.toscrape.com/catalogue/page-3.html\n",
            "Fetching:http://books.toscrape.com/catalogue/page-4.html\n",
            "Fetching:http://books.toscrape.com/catalogue/page-5.html\n",
            "<bound method NDFrame.head of                                                 Title Price($)  \\\n",
            "0   Princess Jellyfish 2-in-1 Omnibus, Vol. 01 (Pr...   £13.61   \n",
            "1    Princess Between Worlds (Wide-Awake Princess #5)   £13.34   \n",
            "2                         Pop Gun War, Volume 1: Gift   £18.97   \n",
            "3   Political Suicide: Missteps, Peccadilloes, Bad...   £36.28   \n",
            "4                                            Patience   £10.16   \n",
            "5   Outcast, Vol. 1: A Darkness Surrounds Him (Out...   £15.44   \n",
            "6   orange: The Complete Collection 1 (orange: The...   £48.41   \n",
            "7   Online Marketing for Busy Authors: A Step-By-S...   £46.35   \n",
            "8                                 On a Midnight Clear   £14.07   \n",
            "9                                   Obsidian (Lux #1)   £14.86   \n",
            "10              My Paris Kitchen: Recipes and Stories   £33.37   \n",
            "11                                  Masks and Shadows   £56.40   \n",
            "12  Mama Tried: Traditional Italian Cooking for th...   £14.02   \n",
            "13  Lumberjanes, Vol. 2: Friendship to the Max (Lu...   £46.91   \n",
            "14  Lumberjanes, Vol. 1: Beware the Kitten Holy (L...   £45.61   \n",
            "15  Lumberjanes Vol. 3: A Terrible Plan (Lumberjan...   £19.92   \n",
            "16  Layered: Baking, Building, and Styling Spectac...   £40.11   \n",
            "17  Judo: Seven Steps to Black Belt (an Introducto...   £53.90   \n",
            "18                                               Join   £35.67   \n",
            "19          In the Country We Love: My Family Divided   £22.00   \n",
            "\n",
            "                        Availability  Rating  \n",
            "0   \\n    \\n        In stock\\n    \\n       5  \n",
            "1   \\n    \\n        In stock\\n    \\n       5  \n",
            "2   \\n    \\n        In stock\\n    \\n       1  \n",
            "3   \\n    \\n        In stock\\n    \\n       2  \n",
            "4   \\n    \\n        In stock\\n    \\n       3  \n",
            "5   \\n    \\n        In stock\\n    \\n       4  \n",
            "6   \\n    \\n        In stock\\n    \\n       1  \n",
            "7   \\n    \\n        In stock\\n    \\n       1  \n",
            "8   \\n    \\n        In stock\\n    \\n       3  \n",
            "9   \\n    \\n        In stock\\n    \\n       2  \n",
            "10  \\n    \\n        In stock\\n    \\n       2  \n",
            "11  \\n    \\n        In stock\\n    \\n       2  \n",
            "12  \\n    \\n        In stock\\n    \\n       4  \n",
            "13  \\n    \\n        In stock\\n    \\n       2  \n",
            "14  \\n    \\n        In stock\\n    \\n       3  \n",
            "15  \\n    \\n        In stock\\n    \\n       2  \n",
            "16  \\n    \\n        In stock\\n    \\n       1  \n",
            "17  \\n    \\n        In stock\\n    \\n       2  \n",
            "18  \\n    \\n        In stock\\n    \\n       5  \n",
            "19  \\n    \\n        In stock\\n    \\n       4  >\n"
          ]
        }
      ]
    },
    {
      "cell_type": "code",
      "source": [],
      "metadata": {
        "id": "s01JXK1gLCoM"
      },
      "execution_count": null,
      "outputs": []
    }
  ]
}